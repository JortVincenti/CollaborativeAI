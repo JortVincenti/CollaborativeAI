{
 "cells": [
  {
   "cell_type": "code",
   "execution_count": 32,
   "id": "74ecc0fe",
   "metadata": {},
   "outputs": [],
   "source": [
    "import pandas as pd\n",
    "import numpy as np\n",
    "import matplotlib.pyplot as plt"
   ]
  },
  {
   "cell_type": "code",
   "execution_count": 76,
   "id": "f9842cf5",
   "metadata": {},
   "outputs": [],
   "source": [
    "df = pd.read_csv(\"beliefs/rounds_trustValues.csv\", delimiter=';')"
   ]
  },
  {
   "cell_type": "code",
   "execution_count": 77,
   "id": "5a9e20fa",
   "metadata": {},
   "outputs": [],
   "source": [
    "name = df[\"name\"][0]\n",
    "competence = df[\"competence\"][0]\n",
    "willingness = df[\"willingness\"][0]\n",
    "confidence = df[\"confidence\"][0]"
   ]
  },
  {
   "cell_type": "code",
   "execution_count": 78,
   "id": "86efc7bb",
   "metadata": {},
   "outputs": [],
   "source": [
    "willy = willingness.replace(')', '').replace('(', '').replace('[', '').replace(']', '').split(\", \")\n",
    "willy = [float(x) for x in willy]\n",
    "willy_ticks = willy[1::2]\n",
    "willy_value = willy[::2]"
   ]
  },
  {
   "cell_type": "code",
   "execution_count": 79,
   "id": "058010ab",
   "metadata": {},
   "outputs": [],
   "source": [
    "compy = competence.replace(')', '').replace('(', '').replace('[', '').replace(']', '').split(\", \")\n",
    "compy = [float(x) for x in compy]\n",
    "compy_ticks = compy[1::2]\n",
    "compy_value = compy[::2]"
   ]
  },
  {
   "cell_type": "code",
   "execution_count": 80,
   "id": "e0f80b19",
   "metadata": {},
   "outputs": [],
   "source": [
    "confidence = confidence.replace(')', '').replace('(', '').replace('[', '').replace(']', '').split(\", \")\n",
    "confidence = [float(x) for x in confidence]\n",
    "confidence_ticks = confidence[1::2]\n",
    "confidence_value = confidence[::2]"
   ]
  },
  {
   "cell_type": "code",
   "execution_count": 81,
   "id": "75e172f9",
   "metadata": {},
   "outputs": [
    {
     "data": {
      "image/png": "[encoded data removed]",
      "text/plain": [
       "<Figure size 432x288 with 1 Axes>"
      ]
     },
     "metadata": {
      "needs_background": "light"
     },
     "output_type": "display_data"
    }
   ],
   "source": [
    "plt.plot(willy_ticks, willy_value, label = \"Willingness\")\n",
    "plt.plot(compy_ticks, compy_value, label=\"Competence\")\n",
    "plt.plot(confidence_ticks, confidence_value, label=\"Confidence\")\n",
    "plt.title(\"Agent Name: \"+ name)\n",
    "plt.xlabel(\"Ticks\")\n",
    "plt.ylabel(\"Value\")\n",
    "plt.legend()\n",
    "plt.show()"
   ]
  },
  {
   "cell_type": "code",
   "execution_count": 55,
   "id": "58978ddd",
   "metadata": {},
   "outputs": [
    {
     "data": {
      "text/html": [
       "<div>\n",
       "<style scoped>\n",
       "    .dataframe tbody tr th:only-of-type {\n",
       "        vertical-align: middle;\n",
       "    }\n",
       "\n",
       "    .dataframe tbody tr th {\n",
       "        vertical-align: top;\n",
       "    }\n",
       "\n",
       "    .dataframe thead th {\n",
       "        text-align: right;\n",
       "    }\n",
       "</style>\n",
       "<table border=\"1\" class=\"dataframe\">\n",
       "  <thead>\n",
       "    <tr style=\"text-align: right;\">\n",
       "      <th></th>\n",
       "      <th>name</th>\n",
       "      <th>competence</th>\n",
       "      <th>willingness</th>\n",
       "      <th>confidence</th>\n",
       "    </tr>\n",
       "  </thead>\n",
       "  <tbody>\n",
       "    <tr>\n",
       "      <th>0</th>\n",
       "      <td>jorti</td>\n",
       "      <td>[(0, 0)]</td>\n",
       "      <td>[(0, 0), (-0.05, 407), (-0.15000000000000002, ...</td>\n",
       "      <td>[(0, 0)]</td>\n",
       "    </tr>\n",
       "  </tbody>\n",
       "</table>\n",
       "</div>"
      ],
      "text/plain": [
       "    name competence                                        willingness  \\\n",
       "0  jorti   [(0, 0)]  [(0, 0), (-0.05, 407), (-0.15000000000000002, ...   \n",
       "\n",
       "  confidence  \n",
       "0   [(0, 0)]  "
      ]
     },
     "execution_count": 55,
     "metadata": {},
     "output_type": "execute_result"
    }
   ],
   "source": []
  },
  {
   "cell_type": "code",
   "execution_count": null,
   "id": "c77b9cf5",
   "metadata": {},
   "outputs": [],
   "source": []
  }
 ],
 "metadata": {
  "kernelspec": {
   "display_name": "Python 3 (ipykernel)",
   "language": "python",
   "name": "python3"
  },
  "language_info": {
   "codemirror_mode": {
    "name": "ipython",
    "version": 3
   },
   "file_extension": ".py",
   "mimetype": "text/x-python",
   "name": "python",
   "nbconvert_exporter": "python",
   "pygments_lexer": "ipython3",
   "version": "3.9.12"
  }
 },
 "nbformat": 4,
 "nbformat_minor": 5
}